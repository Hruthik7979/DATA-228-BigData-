{
 "cells": [
  {
   "cell_type": "code",
   "execution_count": 1,
   "id": "b5256c6b",
   "metadata": {},
   "outputs": [
    {
     "name": "stderr",
     "output_type": "stream",
     "text": [
      "Setting default log level to \"WARN\".\n",
      "To adjust logging level use sc.setLogLevel(newLevel). For SparkR, use setLogLevel(newLevel).\n"
     ]
    },
    {
     "name": "stdout",
     "output_type": "stream",
     "text": [
      "23/05/16 19:39:06 WARN NativeCodeLoader: Unable to load native-hadoop library for your platform... using builtin-java classes where applicable\n"
     ]
    }
   ],
   "source": [
    "import pyspark\n",
    "\n",
    "sc = pyspark.SparkContext(appName=\"DATA228_Project\")\n",
    "\n"
   ]
  },
  {
   "cell_type": "markdown",
   "id": "6433a139",
   "metadata": {},
   "source": [
    "## Importing all necessary libraries"
   ]
  },
  {
   "cell_type": "code",
   "execution_count": 2,
   "id": "c708045b",
   "metadata": {},
   "outputs": [],
   "source": [
    "from pyspark.sql import SparkSession\n",
    "from pyspark.sql.types import *\n",
    "from pyspark.sql.functions import *\n",
    "\n",
    "spark = SparkSession.builder.appName('DATA228_Project').getOrCreate()"
   ]
  },
  {
   "cell_type": "code",
   "execution_count": 3,
   "id": "eb0b1346",
   "metadata": {},
   "outputs": [],
   "source": [
    "from pyspark.ml.feature import StopWordsRemover, CountVectorizer,Tokenizer, StringIndexer, HashingTF, IDF\n",
    "from pyspark.ml import Pipeline\n",
    "from pyspark.ml.classification import NaiveBayes,LogisticRegression \n",
    "from pyspark.sql.functions import *"
   ]
  },
  {
   "cell_type": "markdown",
   "id": "7bc29ec9",
   "metadata": {},
   "source": [
    "## Loading data into pyspark data frame"
   ]
  },
  {
   "cell_type": "code",
   "execution_count": 5,
   "id": "ffabc122",
   "metadata": {},
   "outputs": [
    {
     "name": "stderr",
     "output_type": "stream",
     "text": [
      "                                                                                \r"
     ]
    }
   ],
   "source": [
    "#import sf_data into pyspark data frame\n",
    "\n",
    "df = spark.read.format('csv').option('header','true')\\\n",
    ".option('inferSchema', 'true').option('timestamp', 'true').load('SF_data.csv')\n"
   ]
  },
  {
   "cell_type": "markdown",
   "id": "c7a3a1f1",
   "metadata": {},
   "source": [
    "## Total records"
   ]
  },
  {
   "cell_type": "code",
   "execution_count": 6,
   "id": "5a688ca1",
   "metadata": {},
   "outputs": [
    {
     "data": {
      "text/plain": [
       "2129525"
      ]
     },
     "execution_count": 6,
     "metadata": {},
     "output_type": "execute_result"
    }
   ],
   "source": [
    "df.count()"
   ]
  },
  {
   "cell_type": "markdown",
   "id": "21d1b6f7",
   "metadata": {},
   "source": [
    "## Data Cleaning and Preprocessing"
   ]
  },
  {
   "cell_type": "code",
   "execution_count": 8,
   "id": "a4156cf3",
   "metadata": {},
   "outputs": [],
   "source": [
    "df1=df.select(str.strip('PdId'),'Incident Code','Category','Descript','DayOfWeek','Date','Time','PdDistrict','X','Y')\n",
    "#display(df1)"
   ]
  },
  {
   "cell_type": "code",
   "execution_count": 9,
   "id": "73ee0825",
   "metadata": {},
   "outputs": [],
   "source": [
    "df22=df1.dropna()"
   ]
  },
  {
   "cell_type": "code",
   "execution_count": 10,
   "id": "cf2aad4c",
   "metadata": {},
   "outputs": [],
   "source": [
    "df2=df22.filter(col('Category')!=col('Descript'))"
   ]
  },
  {
   "cell_type": "markdown",
   "id": "60e2fc1f",
   "metadata": {},
   "source": [
    "## EDA"
   ]
  },
  {
   "cell_type": "markdown",
   "id": "45f4d925",
   "metadata": {},
   "source": [
    "### Number of incidents in each category"
   ]
  },
  {
   "cell_type": "code",
   "execution_count": 11,
   "id": "7221253e",
   "metadata": {},
   "outputs": [
    {
     "name": "stderr",
     "output_type": "stream",
     "text": [
      "\r",
      "[Stage 5:>                                                          (0 + 8) / 8]\r"
     ]
    },
    {
     "name": "stdout",
     "output_type": "stream",
     "text": [
      "+--------------------+------+\n",
      "|            Category| count|\n",
      "+--------------------+------+\n",
      "|               FRAUD| 41348|\n",
      "|             SUICIDE|  1230|\n",
      "|         LIQUOR LAWS|  2840|\n",
      "|     SECONDARY CODES| 22378|\n",
      "|      MISSING PERSON| 44268|\n",
      "|      OTHER OFFENSES|301874|\n",
      "|DRIVING UNDER THE...|  5652|\n",
      "|            WARRANTS| 99821|\n",
      "|               ARSON|  2633|\n",
      "|FORGERY/COUNTERFE...| 22995|\n",
      "|            GAMBLING|   105|\n",
      "|             BRIBERY|   796|\n",
      "|             ASSAULT|165762|\n",
      "|         DRUNKENNESS|  9760|\n",
      "|           EXTORTION|   339|\n",
      "|                TREA|    14|\n",
      "|         WEAPON LAWS| 21004|\n",
      "|           LOITERING|  1639|\n",
      "|      SUSPICIOUS OCC| 79087|\n",
      "|             ROBBERY| 54467|\n",
      "+--------------------+------+\n",
      "only showing top 20 rows\n",
      "\n"
     ]
    },
    {
     "name": "stderr",
     "output_type": "stream",
     "text": [
      "\r",
      "                                                                                \r"
     ]
    }
   ],
   "source": [
    "df4=df2.groupBy('Category').count()\n",
    "(df4.show())"
   ]
  },
  {
   "cell_type": "markdown",
   "id": "5b7256b3",
   "metadata": {},
   "source": [
    "### Incidents anlyzed by day of the week"
   ]
  },
  {
   "cell_type": "code",
   "execution_count": 12,
   "id": "15207ed0",
   "metadata": {},
   "outputs": [
    {
     "name": "stderr",
     "output_type": "stream",
     "text": [
      "\r",
      "[Stage 8:>                                                          (0 + 8) / 8]\r"
     ]
    },
    {
     "name": "stdout",
     "output_type": "stream",
     "text": [
      "+---------+------+\n",
      "|DayOfWeek| count|\n",
      "+---------+------+\n",
      "|Wednesday|310982|\n",
      "|  Tuesday|301853|\n",
      "|   Friday|323562|\n",
      "| Thursday|303303|\n",
      "| Saturday|308380|\n",
      "|   Monday|294007|\n",
      "|   Sunday|283464|\n",
      "+---------+------+\n",
      "\n"
     ]
    },
    {
     "name": "stderr",
     "output_type": "stream",
     "text": [
      "\r",
      "                                                                                \r"
     ]
    }
   ],
   "source": [
    "df2.groupBy('DayOfWeek').count().show()"
   ]
  },
  {
   "cell_type": "markdown",
   "id": "3e9b6914",
   "metadata": {},
   "source": [
    "### Crime in different districts of SF"
   ]
  },
  {
   "cell_type": "code",
   "execution_count": 13,
   "id": "aed5d175",
   "metadata": {},
   "outputs": [
    {
     "name": "stderr",
     "output_type": "stream",
     "text": [
      "\r",
      "[Stage 11:>                                                         (0 + 8) / 8]\r"
     ]
    },
    {
     "name": "stdout",
     "output_type": "stream",
     "text": [
      "+----------+------+\n",
      "|PdDistrict| count|\n",
      "+----------+------+\n",
      "|   MISSION|288278|\n",
      "|   BAYVIEW|205078|\n",
      "|   CENTRAL|221433|\n",
      "|   TARAVAL|155174|\n",
      "|TENDERLOIN|186637|\n",
      "| INGLESIDE|180819|\n",
      "|      PARK|119532|\n",
      "|  SOUTHERN|390118|\n",
      "|  RICHMOND|112620|\n",
      "|  NORTHERN|265861|\n",
      "+----------+------+\n",
      "\n"
     ]
    },
    {
     "name": "stderr",
     "output_type": "stream",
     "text": [
      "\r",
      "                                                                                \r"
     ]
    }
   ],
   "source": [
    "df2.filter(\"PdDistrict !='NA'\").groupBy('PdDistrict').count().show()"
   ]
  },
  {
   "cell_type": "code",
   "execution_count": 14,
   "id": "d81979a0",
   "metadata": {},
   "outputs": [
    {
     "name": "stdout",
     "output_type": "stream",
     "text": [
      "+--------------+-------------+-------------+--------------------+---------+----------+-------------------+----------+-----------------+----------------+-----+----+----+\n",
      "|          PdId|Incident Code|     Category|            Descript|DayOfWeek|      Date|               Time|PdDistrict|                X|               Y|Month|Year|Hour|\n",
      "+--------------+-------------+-------------+--------------------+---------+----------+-------------------+----------+-----------------+----------------+-----+----+----+\n",
      "| 4133422003074|         3074|      ROBBERY|ROBBERY, BODILY F...|   Monday|2004-11-22|2023-05-16 17:50:00| INGLESIDE|-122.420084075249|37.7083109744362|   11|2004|  17|\n",
      "| 5118535807021|         7021|VEHICLE THEFT|   STOLEN AUTOMOBILE|  Tuesday|2005-10-18|2023-05-16 20:00:00|      PARK|           -120.5|            90.0|   10|2005|  20|\n",
      "| 4018830907021|         7021|VEHICLE THEFT|   STOLEN AUTOMOBILE|   Sunday|2004-02-15|2023-05-16 02:00:00|  SOUTHERN|           -120.5|            90.0|    2|2004|   2|\n",
      "|10108108004134|         4134|      ASSAULT|             BATTERY|   Sunday|2010-11-21|2023-05-16 17:00:00|  SOUTHERN|-122.410541166987|37.7709130566165|   11|2010|  17|\n",
      "|13027069804134|         4134|      ASSAULT|             BATTERY|  Tuesday|2013-04-02|2023-05-16 15:50:00|   TARAVAL|-122.470365997562|  37.74515794927|    4|2013|  15|\n",
      "+--------------+-------------+-------------+--------------------+---------+----------+-------------------+----------+-----------------+----------------+-----+----+----+\n",
      "only showing top 5 rows\n",
      "\n"
     ]
    }
   ],
   "source": [
    "dft=df2.withColumn('Date', to_date(col('Date'), \"M/d/y\"))\\\n",
    ".withColumn('Month', month(col('Date'))).withColumn('Year', year(col('Date')))\n",
    "\n",
    "dfh = dft.withColumn('Hour', hour(dft.Time))\n",
    "\n",
    "dfh.show(5)\n"
   ]
  },
  {
   "cell_type": "markdown",
   "id": "8caaecc0",
   "metadata": {},
   "source": [
    "### Incidents anlyzed by different time components"
   ]
  },
  {
   "cell_type": "code",
   "execution_count": 15,
   "id": "18663f25",
   "metadata": {},
   "outputs": [
    {
     "name": "stderr",
     "output_type": "stream",
     "text": [
      "\r",
      "[Stage 15:>                                                         (0 + 8) / 8]\r"
     ]
    },
    {
     "name": "stdout",
     "output_type": "stream",
     "text": [
      "+----+------+\n",
      "|Hour| count|\n",
      "+----+------+\n",
      "|  18|135559|\n",
      "|  17|129958|\n",
      "|  12|127336|\n",
      "|  19|121732|\n",
      "|  16|120152|\n",
      "|  15|114376|\n",
      "|  20|110489|\n",
      "|  22|109828|\n",
      "|   0|108669|\n",
      "|  14|107298|\n",
      "|  21|105353|\n",
      "|  13|103913|\n",
      "|  23|101240|\n",
      "|  11| 93405|\n",
      "|  10| 91483|\n",
      "|   9| 85510|\n",
      "|   8| 78203|\n",
      "|   1| 63169|\n",
      "|   2| 52750|\n",
      "|   7| 52242|\n",
      "+----+------+\n",
      "only showing top 20 rows\n",
      "\n"
     ]
    },
    {
     "name": "stderr",
     "output_type": "stream",
     "text": [
      "\r",
      "                                                                                \r"
     ]
    }
   ],
   "source": [
    "dfh.groupBy('Hour').count().orderBy((col('count')).desc()).show()"
   ]
  },
  {
   "cell_type": "code",
   "execution_count": 16,
   "id": "fb57cbd1",
   "metadata": {},
   "outputs": [
    {
     "name": "stderr",
     "output_type": "stream",
     "text": [
      "\r",
      "[Stage 18:>                                                         (0 + 8) / 8]\r"
     ]
    },
    {
     "name": "stdout",
     "output_type": "stream",
     "text": [
      "+----+------+\n",
      "|Year| count|\n",
      "+----+------+\n",
      "|2015|151164|\n",
      "|2017|149204|\n",
      "|2013|147436|\n",
      "|2016|145735|\n",
      "|2014|144631|\n",
      "|2003|142531|\n",
      "|2004|141723|\n",
      "|2005|136675|\n",
      "|2012|135271|\n",
      "|2008|134986|\n",
      "|2009|134052|\n",
      "|2006|131619|\n",
      "|2007|131451|\n",
      "|2010|127563|\n",
      "|2011|126537|\n",
      "|2018| 44973|\n",
      "+----+------+\n",
      "\n"
     ]
    },
    {
     "name": "stderr",
     "output_type": "stream",
     "text": [
      "\r",
      "                                                                                \r"
     ]
    }
   ],
   "source": [
    "dfh.groupBy('Year').count().orderBy((col('count')).desc()).show()"
   ]
  },
  {
   "cell_type": "code",
   "execution_count": 17,
   "id": "fe7a3381",
   "metadata": {},
   "outputs": [
    {
     "name": "stderr",
     "output_type": "stream",
     "text": [
      "\r",
      "[Stage 21:>                                                         (0 + 8) / 8]\r"
     ]
    },
    {
     "name": "stdout",
     "output_type": "stream",
     "text": [
      "+-----+------+\n",
      "|Month| count|\n",
      "+-----+------+\n",
      "|    1|189311|\n",
      "|    3|189056|\n",
      "|   10|182706|\n",
      "|    4|181929|\n",
      "|    8|180865|\n",
      "|    5|179593|\n",
      "|    9|176098|\n",
      "|    7|175177|\n",
      "|    2|170790|\n",
      "|   11|167901|\n",
      "|    6|167877|\n",
      "|   12|164248|\n",
      "+-----+------+\n",
      "\n"
     ]
    },
    {
     "name": "stderr",
     "output_type": "stream",
     "text": [
      "\r",
      "                                                                                \r"
     ]
    }
   ],
   "source": [
    "dfh.groupBy('Month').count().orderBy((col('count')).desc()).show()"
   ]
  },
  {
   "cell_type": "markdown",
   "id": "f8244b20",
   "metadata": {},
   "source": [
    "### correlation analysis"
   ]
  },
  {
   "cell_type": "code",
   "execution_count": 18,
   "id": "7453d3ea",
   "metadata": {},
   "outputs": [
    {
     "name": "stderr",
     "output_type": "stream",
     "text": [
      "                                                                                \r"
     ]
    },
    {
     "data": {
      "text/plain": [
       "[('Year', 'Month', -0.03621290790179111),\n",
       " ('Year', 'Hour', 0.00012307117358386268),\n",
       " ('Year', 'X', -0.012353832737066773),\n",
       " ('Year', 'Y', -0.008930261980690002),\n",
       " ('Year', 'Incident Code', 0.007481539234277595),\n",
       " ('Month', 'Hour', 0.001569769800269952),\n",
       " ('Month', 'X', 0.0035197335011096474),\n",
       " ('Month', 'Y', 0.0023665843855859192),\n",
       " ('Month', 'Incident Code', -0.009223815709996482),\n",
       " ('Hour', 'X', -0.00020092057827674408),\n",
       " ('Hour', 'Y', -0.0005525643676066241),\n",
       " ('Hour', 'Incident Code', -0.037512693512052664),\n",
       " ('X', 'Y', 0.5324418445774036),\n",
       " ('X', 'Incident Code', 0.0024046637544743875),\n",
       " ('Y', 'Incident Code', -0.0016844887746580576)]"
      ]
     },
     "metadata": {},
     "output_type": "display_data"
    }
   ],
   "source": [
    "#df_all=dfh.groupBy('PdDistrict','Category','Descript','DayOfWeek','Month','Year','Hour').count().orderBy((col('count')).desc())\n",
    "p=dfh.select('Year','Month','Hour','X','Y','Incident Code')\n",
    "\n",
    "numerical=[ 'Year','Month','Hour','X','Y','Incident Code']\n",
    "# create a correlations matrix:\n",
    "n_numerical = len(numerical)\n",
    "corr_pair = []\n",
    "for i in range(0, n_numerical):\n",
    "    temp = [] * i\n",
    "    for j in range(i+1, n_numerical):\n",
    "        temp.append((numerical[i], numerical[j],p.corr(numerical[i], numerical[j])))\n",
    "    corr_pair.append(temp)\n",
    "    \n",
    "display(sc.parallelize(corr_pair).flatMap(lambda x:x).collect())\n",
    "\n"
   ]
  },
  {
   "cell_type": "code",
   "execution_count": 19,
   "id": "d89c271d",
   "metadata": {},
   "outputs": [],
   "source": [
    "d1=dfh.filter(\"PdDistrict !='NA'\").select(col('Category'),col('Descript'))\n",
    "\n",
    "df_data=d1.withColumn('Category_1',lower(col('Category')))\\\n",
    ".withColumn('Description',lower(col('Descript'))).drop('Category','Descript')\\\n",
    ".withColumnRenamed('Category_1', 'Category')\n",
    "\n",
    "df_data=df_data.select(str.strip('Description'),str.strip('Category'))\n",
    "                 "
   ]
  },
  {
   "cell_type": "markdown",
   "id": "8b7ab278",
   "metadata": {},
   "source": [
    "### Data ready for classification"
   ]
  },
  {
   "cell_type": "code",
   "execution_count": 20,
   "id": "bf3673de",
   "metadata": {},
   "outputs": [
    {
     "name": "stdout",
     "output_type": "stream",
     "text": [
      "+--------------------+--------------+\n",
      "|         Description|      Category|\n",
      "+--------------------+--------------+\n",
      "|robbery, bodily f...|       robbery|\n",
      "|   stolen automobile| vehicle theft|\n",
      "|   stolen automobile| vehicle theft|\n",
      "|             battery|       assault|\n",
      "|             battery|       assault|\n",
      "|             battery|       assault|\n",
      "|stolen and recove...| vehicle theft|\n",
      "|             battery|       assault|\n",
      "|         trespassing|      trespass|\n",
      "|burglary of resid...|      burglary|\n",
      "|grand theft from ...| larceny/theft|\n",
      "|enroute to depart...|      warrants|\n",
      "|drivers license, ...|other offenses|\n",
      "|drivers license, ...|other offenses|\n",
      "|         trespassing|      trespass|\n",
      "|petty theft shopl...| larceny/theft|\n",
      "|robbery of a comm...|       robbery|\n",
      "|possession of heroin| drug/narcotic|\n",
      "|grand theft of pr...| larceny/theft|\n",
      "|suspicious occurr...|suspicious occ|\n",
      "+--------------------+--------------+\n",
      "only showing top 20 rows\n",
      "\n"
     ]
    }
   ],
   "source": [
    "df_data.show()"
   ]
  },
  {
   "cell_type": "code",
   "execution_count": null,
   "id": "bc0884f1",
   "metadata": {},
   "outputs": [],
   "source": []
  }
 ],
 "metadata": {
  "kernelspec": {
   "display_name": "Python 3 (ipykernel)",
   "language": "python",
   "name": "python3"
  },
  "language_info": {
   "codemirror_mode": {
    "name": "ipython",
    "version": 3
   },
   "file_extension": ".py",
   "mimetype": "text/x-python",
   "name": "python",
   "nbconvert_exporter": "python",
   "pygments_lexer": "ipython3",
   "version": "3.9.12"
  }
 },
 "nbformat": 4,
 "nbformat_minor": 5
}
